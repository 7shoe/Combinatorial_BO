{
 "cells": [
  {
   "cell_type": "code",
   "execution_count": 143,
   "id": "4951952b",
   "metadata": {},
   "outputs": [],
   "source": [
    "import os\n",
    "from typing import Tuple, List, Iterable\n",
    "\n",
    "import math\n",
    "import numpy as np\n",
    "from matplotlib import pyplot as plt\n",
    "from scipy import stats\n",
    "\n",
    "from itertools import chain, combinations"
   ]
  },
  {
   "cell_type": "markdown",
   "id": "f8f3d9d0",
   "metadata": {},
   "source": [
    "## 1. Define Trivial binary function \n",
    "\n",
    "$$ g: \\mathcal{D} \\longrightarrow \\mathbb{R} $$\n",
    "    \n",
    "where $\\mathcal{D}$ is a combinatorial domain (e.g. a set of graphs or molecule structrues). Let $\\mathcal{D} = \\{1,2,...,d \\}$. \n",
    "\n",
    "For some $\\delta \\in \\mathcal{D}$, $g(\\delta)$ describes the scalar-valued property of graph (e.g. overall utility of a network of bike stations or the solubility of a drug-like molecule).\n",
    "\n",
    "We model $f$ as affine-linear in presence of each of the $2^{|\\mathcal{D}|}$ possible components in $\\mathcal{D}$. In particular, let the dummy variable $x_{i}$ describe if a component is present in the combinatorial structure (e.g. a node in a graph or an element in a molecule). In particular, $x_{i} = \\mathbb{1}\\{ \\delta_{i} \\in \\delta \\}$. Restrict to interactions up to order $2$.\n",
    "\n",
    "$$ f_{\\boldsymbol{\\alpha}} = \\alpha_{0} + \\sum_{j=1}^{d} \\alpha_{j} x_{j} + \\sum_{i<j}^{d} \\alpha_{ij}x_{i}x_{j} $$\n",
    "\n",
    "with $\\boldsymbol{\\alpha} = (\\alpha_{i}, \\alpha_{ij}) \\in \\mathbb{R}^{p}$, $\\alpha_{i} \\in \\mathbb{R}$ and $p=1+d+\\binom{d}{k}$.\n",
    "\n",
    "Let a sample function $f_{1} = \\sum \\limits_{k \\in 2^{|\\mathcal{D}|}} \\prod \\limits_{i=1}^{d} \\alpha_{k_{i}} x_{i}$ to be continued."
   ]
  },
  {
   "cell_type": "code",
   "execution_count": 132,
   "id": "8bd242be",
   "metadata": {},
   "outputs": [
    {
     "data": {
      "text/plain": [
       "array([ 0.51,  4.75,  0.41,  1.58,  3.08,  0.87,  2.53,  3.3 ,  1.59,\n",
       "        2.13,  0.  ,  1.63,  0.22,  0.01,  0.92,  2.03,  0.04,  0.23,\n",
       "        0.23, -0.04, -0.11, -0.06, -0.04,  0.11, -0.  , -0.33, -0.21,\n",
       "        0.09,  0.33, -0.15, -0.21,  0.06])"
      ]
     },
     "execution_count": 132,
     "metadata": {},
     "output_type": "execute_result"
    }
   ],
   "source": [
    "n, d = 100, 5\n",
    "\n",
    "np.random.seed(3567)\n",
    "\n",
    "# X, y\n",
    "X = np.random.binomial(n=1, p=0.2, size=n*(d+1)).reshape((n,d+1))\n",
    "\n",
    "# a : groundtruth coefficients\n",
    "a = np.random.normal(size=2**(d), loc=0, scale=2)\n",
    "a[1+d+math.comb(d,2):] *= 0.1\n",
    "a[:1+d+math.comb(d,2)] = abs(a[:1+d+math.comb(d,2)])\n",
    "\n",
    "a.round(2)"
   ]
  },
  {
   "cell_type": "code",
   "execution_count": 249,
   "id": "a1f63f2f",
   "metadata": {},
   "outputs": [],
   "source": [
    "def powerset(x:Iterable):\n",
    "    '''\n",
    "    Powerset (set of subsets) for a given iterable x incl. ∅\n",
    "    '''\n",
    "    s = list(x)\n",
    "    powerSet = chain.from_iterable(combinations(s, r) for r in range(len(s)+1))\n",
    "    \n",
    "    return list(powerSet)\n",
    "\n",
    "def g(x:Tuple[int], d:int, k:int, seed:int=3256) -> float:\n",
    "    '''\n",
    "    Black-box function for combinatorial optimization (example model problem)\n",
    "    x    : input tuple   \n",
    "    d    : dimension |D|\n",
    "    k    : order of polynomials w/ significant (from 0) coefficients\n",
    "    seed : seed for generation of random coefficients\n",
    "    '''\n",
    "    \n",
    "    if isinstance(x, int):\n",
    "        x = tuple([x])\n",
    "    \n",
    "    # a : compute groundtruth coefficients\n",
    "    k_sig = sum([math.comb(5,i) for i in range(k+1)])\n",
    "    np.random.seed(seed)\n",
    "    a = np.random.normal(size=2**d, loc=0, scale=3)\n",
    "    a[k_sig:] *= 0.1 # reduce order of magnitude by factor of 10 for non-sifnificant orders\n",
    "    a = a.round(3)\n",
    "    \n",
    "    # dict\n",
    "    g_of_x_dict = {k:v for k,v in zip(powerset(range(d)), a)}\n",
    "    \n",
    "    # g(x)\n",
    "    return sum([g_of_x_dict[x_i] for x_i in powerset(x) if x_i in g_of_x_dict])"
   ]
  },
  {
   "cell_type": "code",
   "execution_count": 250,
   "id": "6c2eea62",
   "metadata": {},
   "outputs": [
    {
     "data": {
      "text/plain": [
       "1.4299999999999997"
      ]
     },
     "execution_count": 250,
     "metadata": {},
     "output_type": "execute_result"
    }
   ],
   "source": [
    "g(x=((1,3)), d=5, k=2)"
   ]
  },
  {
   "cell_type": "code",
   "execution_count": 252,
   "id": "b170f9dd",
   "metadata": {},
   "outputs": [
    {
     "name": "stdout",
     "output_type": "stream",
     "text": [
      "1.129\n",
      "5.843999999999999\n",
      "4.136\n",
      "1.883\n",
      "-0.784\n",
      "2.9859999999999998\n",
      "8.079999999999998\n",
      "3.041999999999999\n",
      "4.021999999999999\n",
      "8.58\n",
      "3.5260000000000007\n",
      "1.4299999999999997\n",
      "4.83\n",
      "-4.191\n",
      "2.8520000000000003\n",
      "1.8239999999999998\n",
      "2.602999999999998\n",
      "6.135999999999999\n",
      "7.9869999999999965\n",
      "-6.133000000000001\n",
      "14.623\n",
      "11.059\n",
      "-8.265\n",
      "6.855\n",
      "0.7619999999999996\n",
      "2.871\n",
      "-11.586000000000002\n",
      "15.367999999999999\n",
      "8.319999999999999\n",
      "14.959999999999997\n",
      "-0.7750000000000004\n",
      "9.259999999999996\n"
     ]
    }
   ],
   "source": [
    "for x in X_all:\n",
    "    print(g(x=x, d=5, k=3))\n"
   ]
  },
  {
   "cell_type": "code",
   "execution_count": null,
   "id": "7be18485",
   "metadata": {},
   "outputs": [],
   "source": []
  }
 ],
 "metadata": {
  "kernelspec": {
   "display_name": "Python 3 (ipykernel)",
   "language": "python",
   "name": "python3"
  },
  "language_info": {
   "codemirror_mode": {
    "name": "ipython",
    "version": 3
   },
   "file_extension": ".py",
   "mimetype": "text/x-python",
   "name": "python",
   "nbconvert_exporter": "python",
   "pygments_lexer": "ipython3",
   "version": "3.9.13"
  }
 },
 "nbformat": 4,
 "nbformat_minor": 5
}
