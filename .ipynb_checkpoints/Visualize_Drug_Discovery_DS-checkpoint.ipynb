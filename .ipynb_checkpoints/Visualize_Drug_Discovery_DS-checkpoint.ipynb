{
 "cells": [
  {
   "cell_type": "code",
   "execution_count": 5,
   "id": "dd274662",
   "metadata": {},
   "outputs": [],
   "source": [
    "from data_utils import *\n",
    "from model_utils import *\n",
    "\n",
    "from tqdm import tqdm\n",
    "import json"
   ]
  },
  {
   "cell_type": "code",
   "execution_count": 6,
   "id": "f5d25442",
   "metadata": {},
   "outputs": [],
   "source": [
    "TRAIN_PATH = '/Users/carlo/VS_Projects/DiscreteBO/Combinatorial_BO-1/Datasets/ai-drug-discovery/training-set.csv'"
   ]
  },
  {
   "cell_type": "markdown",
   "id": "1276d34b",
   "metadata": {},
   "source": [
    "## Load Data"
   ]
  },
  {
   "cell_type": "code",
   "execution_count": 7,
   "id": "5e371aa2",
   "metadata": {},
   "outputs": [],
   "source": [
    "# target variable\n",
    "targetVar = 'sol'\n",
    "\n",
    "# load data\n",
    "df_X = getProcessedDF(df_path=TRAIN_PATH, binaryFlag=True, order=5)\n",
    "df_y = getY(df_path=TRAIN_PATH, label=targetVar)\n",
    "\n",
    "# Load entire dataset\n",
    "X = df_X.to_numpy(dtype=np.int32)\n",
    "y = df_y.to_numpy()\n",
    "\n",
    "# derive dimensions\n",
    "d = X.shape[1]\n",
    "p = 1 + d + math.comb(d,2)"
   ]
  },
  {
   "cell_type": "markdown",
   "id": "e6a76943",
   "metadata": {},
   "source": [
    "## Setup Oracle"
   ]
  },
  {
   "cell_type": "code",
   "execution_count": 8,
   "id": "41414a73",
   "metadata": {},
   "outputs": [],
   "source": [
    "# set dimensions\n",
    "d = X.shape[1]\n",
    "p = 1 + d + math.comb(d,2)\n",
    "\n",
    "# load oracle\n",
    "o1 = Oracle(fun=lambda x: f_bin(x, X=X, y=y), N_total=5000, seed=0, sigma_2=0.2)"
   ]
  },
  {
   "cell_type": "markdown",
   "id": "73009867",
   "metadata": {},
   "source": [
    "## Initialize BO Models"
   ]
  },
  {
   "cell_type": "code",
   "execution_count": null,
   "id": "36299d0b",
   "metadata": {},
   "outputs": [],
   "source": [
    "%%time\n",
    "\n",
    "N_EXPERIMENTS = 5\n",
    "N_ITERATIONS  = 100\n",
    "\n",
    "# initial D_{0}\n",
    "# - sample random data poitns \n",
    "\n",
    "# logging dicts\n",
    "dictRS, dictBOCS = {}, {}\n",
    "\n",
    "# - let BOCS explore\n",
    "for it in range(N_EXPERIMENTS):\n",
    "    # init oracle\n",
    "    o1 = Oracle(fun=lambda x: f_bin(x, X=X, y=y), N_total=5000, seed=it*190, sigma_2=0.0)\n",
    "    \n",
    "    # BOCS instance\n",
    "    bocs = BOCS(variant='SDP', oracle=o1, N=250, B=50, T=2, lambd=0.1, mode='min', seed=it*185)\n",
    "    rs   = RandomSearch(oracle=o1, d=d, seed=it*1478)\n",
    "\n",
    "    # init\n",
    "    yList_BOCS = [np.inf]\n",
    "    yList_RS   = [np.inf]\n",
    "    \n",
    "    # sample\n",
    "    idx_0 = np.random.choice(range(len(X)), 30, replace=False)\n",
    "\n",
    "    # - subset\n",
    "    X0 = X[idx_0,:]\n",
    "    y0 = y[idx_0]\n",
    "\n",
    "    # fit BOCS on initial data\n",
    "    bocs.fit(X0,y0)\n",
    "    \n",
    "    # loop\n",
    "    for k in tqdm(range(N_ITERATIONS)):\n",
    "        # append BOCS\n",
    "        x_new, y_new = bocs.update()\n",
    "        yList_BOCS.append(min(min(yList_BOCS), y_new))\n",
    "\n",
    "        # append RandomSearch\n",
    "        x_new, y_new = rs.update()\n",
    "        yList_RS.append(min(min(yList_RS), y_new))\n",
    "\n",
    "    # append dictionaries\n",
    "    dictRS[it]   = yList_RS[1:]\n",
    "    dictBOCS[it] = yList_BOCS[1:]\n",
    "    \n",
    "# store dictionaries\n",
    "with open(f'./data/BOCS_EXP/dictRS_{N_EXPERIMENTS}_lamb01_02.json', 'w+') as f:\n",
    "    json.dump(dictRS, f)\n",
    "with open(f'./data/BOCS_EXP/dictBOCS_{N_EXPERIMENTS}_lamb01_02.json', 'w+') as f:\n",
    "    json.dump(dictBOCS, f)"
   ]
  },
  {
   "cell_type": "markdown",
   "id": "8f6cca36",
   "metadata": {},
   "source": [
    "## Visualize"
   ]
  },
  {
   "cell_type": "code",
   "execution_count": null,
   "id": "106bf6ac",
   "metadata": {},
   "outputs": [],
   "source": [
    "# dataframes\n",
    "df_RS   = pd.DataFrame(dictRS).T\n",
    "df_BOCS = pd.DataFrame(dictBOCS).T\n",
    "\n",
    "dictRND  = dictRS\n",
    "dictBOCS = dictBOCS"
   ]
  },
  {
   "cell_type": "code",
   "execution_count": null,
   "id": "d4bd8ea3",
   "metadata": {},
   "outputs": [],
   "source": [
    "# Plot\n",
    "fig,ax = plt.subplots()\n",
    "x_ = np.array(range(10, 130))\n",
    "  \n",
    "# mean\n",
    "y_mean  = np.array(pd.DataFrame(dictRND).mean(axis=1))\n",
    "ax.plot(x_, y_mean, '--', color='tab:orange')\n",
    "\n",
    "#plt.plot(range(20, 20+len(mseDict[0])), [mse_**2 for mse_ in mse])\n",
    "plt.xticks()\n",
    "\n",
    "# compute upper lower\n",
    "y_lower = np.array(pd.DataFrame(dictRND).quantile(0.1, axis=1))\n",
    "y_upper = np.array(pd.DataFrame(dictRND).quantile(0.9, axis=1))\n",
    "        \n",
    "# plot our confidence band\n",
    "ax.fill_between(x_, y_lower, y_upper, alpha=0.2, color='tab:orange')\n",
    "\n",
    "# compute upper lower\n",
    "y_lower = np.array(pd.DataFrame(dictRND).quantile(0.25, axis=1))\n",
    "y_upper = np.array(pd.DataFrame(dictRND).quantile(0.75, axis=1))\n",
    "ax.fill_between(x_, y_lower, y_upper, alpha=0.2, color='tab:orange')\n",
    "\n",
    "# compute upper lower\n",
    "y_lower = np.array(pd.DataFrame(dictBOCS).quantile(0.1, axis=1))\n",
    "y_upper = np.array(pd.DataFrame(dictBOCS).quantile(0.9, axis=1))\n",
    "        \n",
    "# plot our confidence band\n",
    "ax.fill_between(x_, y_lower, y_upper, alpha=0.2, color='tab:blue')\n",
    "\n",
    "# compute upper lower\n",
    "y_mean  = np.array(pd.DataFrame(dictBOCS).mean(axis=1))\n",
    "ax.plot(x_, y_mean, '--', color='tab:blue')\n",
    "y_lower = np.array(pd.DataFrame(dictBOCS).quantile(0.25, axis=1))\n",
    "y_upper = np.array(pd.DataFrame(dictBOCS).quantile(0.75, axis=1))\n",
    "ax.fill_between(x_, y_lower, y_upper, alpha=0.2, color='tab:blue')\n",
    "\n",
    "# ticks\n",
    "plt.suptitle('Effectiveness of BOCS', fontsize=16, y=0.99)\n",
    "plt.title(r'$p=56, \\; \\; \\Vert \\alpha \\Vert_{0}=p, \\; \\; n_{init}=30, \\;\\; \\sigma^{2}=3.0, \\; \\; N=100, \\; \\; B = 50, \\; T=4$', fontsize=10)\n",
    "plt.xlabel(r'$n$', fontsize=14)\n",
    "plt.ylabel(r'$f(x_{t})$', fontsize=14)\n",
    "plt.legend({'Rnd.Search' : 'Random', 'BOCS-SDP' : 'BOCS-SDP'})\n",
    "#plt.axhline(y=0.06, linestyle='--', c='grey', linewidth=0.75, xmin=0.05, xmax=0.95)\n",
    "#plt.text(s=r'$\\sigma^{2} tr((X^{\\top} X )^{-1})$', y=0.06, x=-26, fontsize=8, c='#525252')\n",
    "\n",
    "plt.show()"
   ]
  },
  {
   "cell_type": "code",
   "execution_count": null,
   "id": "bab5e9b3",
   "metadata": {},
   "outputs": [],
   "source": []
  }
 ],
 "metadata": {
  "kernelspec": {
   "display_name": "Python 3 (ipykernel)",
   "language": "python",
   "name": "python3"
  },
  "language_info": {
   "codemirror_mode": {
    "name": "ipython",
    "version": 3
   },
   "file_extension": ".py",
   "mimetype": "text/x-python",
   "name": "python",
   "nbconvert_exporter": "python",
   "pygments_lexer": "ipython3",
   "version": "3.9.13"
  }
 },
 "nbformat": 4,
 "nbformat_minor": 5
}
