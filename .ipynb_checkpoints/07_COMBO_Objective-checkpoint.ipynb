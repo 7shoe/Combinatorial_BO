{
 "cells": [
  {
   "cell_type": "code",
   "execution_count": 4,
   "id": "f05529c6",
   "metadata": {},
   "outputs": [],
   "source": [
    "import math\n",
    "import numpy as np\n",
    "\n",
    "import torch"
   ]
  },
  {
   "cell_type": "code",
   "execution_count": 14,
   "id": "6f6351d6",
   "metadata": {},
   "outputs": [],
   "source": [
    "class Branin(object):\n",
    "    def __init__(self):\n",
    "        self.n_vertices = np.array([21, 21])\n",
    "        self.n_factors = len(self.n_vertices)\n",
    "        self.suggested_init = torch.Tensor(self.n_vertices).long().unsqueeze(0) / 2\n",
    "        for _ in range(1, 2):\n",
    "            random_init = torch.cat([torch.randint(0, int(elm), (1, 1)) for elm in self.n_vertices], dim=1)\n",
    "            self.suggested_init = torch.cat([self.suggested_init, random_init], dim=0)\n",
    "        self.adjacency_mat = []\n",
    "        self.fourier_freq = []\n",
    "        self.fourier_basis = []\n",
    "        for i in range(len(self.n_vertices)):\n",
    "            n_v = self.n_vertices[i]\n",
    "            adjmat = torch.diag(torch.ones(n_v - 1), -1) + torch.diag(torch.ones(n_v - 1), 1)\n",
    "            adjmat *= (n_v - 1.0)\n",
    "            self.adjacency_mat.append(adjmat)\n",
    "            degmat = torch.sum(adjmat, dim=0)\n",
    "            laplacian = (torch.diag(degmat) - adjmat)\n",
    "            \n",
    "            # TEST\n",
    "            print(laplacian.size())\n",
    "            \n",
    "            eigval, eigvec = torch.linalg.eigh(laplacian)\n",
    "            self.fourier_freq.append(eigval)\n",
    "            self.fourier_basis.append(eigvec)\n",
    "\n",
    "    def evaluate(self, x_g):\n",
    "        flat = x_g.dim() == 1\n",
    "        if flat:\n",
    "            x_g = x_g.view(1, -1)\n",
    "        ndim = x_g.size(1)\n",
    "        assert ndim == len(self.n_vertices)\n",
    "        n_repeat = int(ndim / 2)\n",
    "        n_dummy = int(ndim % 2)\n",
    "\n",
    "        x_e = torch.ones(x_g.size())\n",
    "        for d in range(len(self.n_vertices)):\n",
    "            x_e[:, d] = torch.linspace(-1, 1, int(self.n_vertices[d]))[x_g[:, d].long()]\n",
    "\n",
    "        shift = torch.cat([torch.FloatTensor([2.5, 7.5]).repeat(n_repeat), torch.zeros(n_dummy)])\n",
    "\n",
    "        x_e = x_e * 7.5 + shift\n",
    "\n",
    "        a = 1\n",
    "        b = 5.1 / (4 * math.pi ** 2)\n",
    "        c = 5.0 / math.pi\n",
    "        r = 6\n",
    "        s = 10\n",
    "        t = 1.0 / (8 * math.pi)\n",
    "        output = 0\n",
    "        for i in range(n_repeat):\n",
    "            output += a * (x_e[:, 2 * i + 1] - b * x_e[:, 2 * i] ** 2 + c * x_e[:, 2 * i] - r) ** 2 \\\n",
    "                      + s * (1 - t) * torch.cos(x_e[:, 2 * i]) + s\n",
    "        output /= float(n_repeat)\n",
    "        \n",
    "        if flat:\n",
    "            return output.squeeze(0)\n",
    "        else:\n",
    "            return output"
   ]
  },
  {
   "cell_type": "code",
   "execution_count": 15,
   "id": "b57a49e7",
   "metadata": {},
   "outputs": [
    {
     "name": "stdout",
     "output_type": "stream",
     "text": [
      "torch.Size([21, 21])\n",
      "torch.Size([21, 21])\n"
     ]
    }
   ],
   "source": [
    "b = Branin()"
   ]
  },
  {
   "cell_type": "code",
   "execution_count": 13,
   "id": "19da1311",
   "metadata": {},
   "outputs": [
    {
     "data": {
      "text/plain": [
       "tensor([[10.5000, 10.5000],\n",
       "        [ 0.0000, 12.0000]])"
      ]
     },
     "execution_count": 13,
     "metadata": {},
     "output_type": "execute_result"
    }
   ],
   "source": [
    "b.suggested_init"
   ]
  },
  {
   "cell_type": "code",
   "execution_count": null,
   "id": "6a7de637",
   "metadata": {},
   "outputs": [],
   "source": []
  }
 ],
 "metadata": {
  "kernelspec": {
   "display_name": "Python 3 (ipykernel)",
   "language": "python",
   "name": "python3"
  },
  "language_info": {
   "codemirror_mode": {
    "name": "ipython",
    "version": 3
   },
   "file_extension": ".py",
   "mimetype": "text/x-python",
   "name": "python",
   "nbconvert_exporter": "python",
   "pygments_lexer": "ipython3",
   "version": "3.9.13"
  }
 },
 "nbformat": 4,
 "nbformat_minor": 5
}
