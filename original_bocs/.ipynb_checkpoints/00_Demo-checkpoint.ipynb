{
 "cells": [
  {
   "cell_type": "code",
   "execution_count": 1,
   "id": "561e2038",
   "metadata": {},
   "outputs": [],
   "source": [
    "import os \n",
    "from pathlib import Path\n",
    "import numpy as np\n",
    "from matplotlib import pyplot as plt\n",
    "\n",
    "from BOCS import *\n",
    "from bhs import *"
   ]
  },
  {
   "cell_type": "markdown",
   "id": "b21cb659",
   "metadata": {},
   "source": [
    "## Agenda... Get a feeling for the OG BOCS implementation\n",
    "- understand/implement `BOCS-SA`\n",
    "- then... implement "
   ]
  },
  {
   "cell_type": "code",
   "execution_count": 2,
   "id": "d09d9a13",
   "metadata": {},
   "outputs": [],
   "source": [
    "n = 10\n",
    "d = 26\n",
    "\n",
    "# f\n",
    "f_GT = lambda x: -0.3*x[0] + 0.2*x[1] + 0.5*x[2] - 1.5 * x[3] + 0.5 * x[4]\n",
    "\n",
    "# X,y\n",
    "X_ = np.random.binomial(p=0.5, n=1, size=n*d).reshape((n,d))\n",
    "y_ = np.array([f_GT(x) for x in X_])\n",
    "\n",
    "\n",
    "# Bayesian Regression\n",
    "b1 = bhs(Xorg=X_, yorg=y_, nsamples=666, burnin=10, thin=1)"
   ]
  },
  {
   "cell_type": "code",
   "execution_count": 3,
   "id": "2f9667f5",
   "metadata": {},
   "outputs": [
    {
     "data": {
      "text/plain": [
       "(26, 666)"
      ]
     },
     "execution_count": 3,
     "metadata": {},
     "output_type": "execute_result"
    }
   ],
   "source": [
    "b1[0].shape # alpha collection (d, N_runs)\n",
    "\n",
    "b1[1]         # np.mean(y)\n",
    "\n",
    "b1[2].shape # s2 : \n",
    "\n",
    "b1[3].shape # t2 : \n",
    "\n",
    "b1[4].shape # l2"
   ]
  },
  {
   "cell_type": "markdown",
   "id": "bc3d9922",
   "metadata": {},
   "source": [
    "## Run `BOCS` Model"
   ]
  },
  {
   "cell_type": "code",
   "execution_count": 12,
   "id": "ae04083e",
   "metadata": {},
   "outputs": [],
   "source": [
    "# Paras\n",
    "n = 33\n",
    "d = 16\n",
    "\n",
    "# f (groundtruth model)\n",
    "f_GT = lambda x: x.sum()**2 - 2 + (x**3).sum() + 2 + (2.5*np.cos(x)**2).sum() - np.sin(x.sum())\n",
    "\n",
    "pen = lambda x: -10*(x**2).sum()\n",
    "\n",
    "# X,y X_vals\n",
    "X_ = np.random.binomial(p=0.5, n=1, size=n*d).reshape((n,d))\n",
    "y_ = np.array([f_GT(x) for x in X_])\n",
    "\n",
    "\n",
    "# Bayesian Regression\n",
    "b1 = bhs(Xorg=X_, yorg=y_, nsamples=666, burnin=10, thin=1)\n",
    "\n",
    "# inputs\n",
    "inputs = {'n_vars' : d, 'model' : f_GT, 'penalty' : pen, \n",
    "          'evalBudget' : 35, 'x_vals' : X_, 'y_vals' : y_}"
   ]
  },
  {
   "cell_type": "code",
   "execution_count": 13,
   "id": "b731a180",
   "metadata": {},
   "outputs": [
    {
     "name": "stdout",
     "output_type": "stream",
     "text": [
      "SA - (2.) start:   ...  kk in range(n_rand_vector)\n",
      "SA - (2.) start:   ...  kk in range(n_rand_vector)\n",
      "SA - (2.) start:   ...  kk in range(n_rand_vector)\n",
      "SA - (2.) start:   ...  kk in range(n_rand_vector)\n",
      "SA - (2.) start:   ...  kk in range(n_rand_vector)\n",
      "SA - (2.) start:   ...  kk in range(n_rand_vector)\n",
      "SA - (2.) start:   ...  kk in range(n_rand_vector)\n",
      "SA - (2.) start:   ...  kk in range(n_rand_vector)\n",
      "SA - (2.) start:   ...  kk in range(n_rand_vector)\n",
      "SA - (2.) start:   ...  kk in range(n_rand_vector)\n"
     ]
    }
   ],
   "source": [
    "model_iter, obj_iter = BOCS(inputs=inputs, order=2, acquisitionFn='SA') # SA_RUNS * ()"
   ]
  },
  {
   "cell_type": "code",
   "execution_count": 14,
   "id": "79ada674",
   "metadata": {},
   "outputs": [],
   "source": [
    "?BOCS"
   ]
  },
  {
   "cell_type": "code",
   "execution_count": null,
   "id": "16dd3f30",
   "metadata": {},
   "outputs": [],
   "source": [
    "plt.plot(obj_iter)\n",
    "plt.show()"
   ]
  },
  {
   "cell_type": "code",
   "execution_count": null,
   "id": "448298f5",
   "metadata": {},
   "outputs": [],
   "source": [
    "model_iter"
   ]
  },
  {
   "cell_type": "markdown",
   "id": "ab9b2ceb",
   "metadata": {},
   "source": [
    "## On Geometric Rounding"
   ]
  },
  {
   "cell_type": "code",
   "execution_count": null,
   "id": "2081c639",
   "metadata": {},
   "outputs": [],
   "source": [
    "v_i = np.array([5.0, 3.4, 6.2, -9.4, 9.4, -5.5, 9.2, -2.2, -1.2]) / np.linalg.norm(v_i, ord=2)"
   ]
  },
  {
   "cell_type": "code",
   "execution_count": null,
   "id": "eafd8f68",
   "metadata": {},
   "outputs": [],
   "source": [
    "v_i = np.array([1, 0, -2.5, 0, 2])\n",
    "# sample\n",
    "N = 100000\n",
    "\n",
    "signVec=[]\n",
    "for k in range(N):\n",
    "    u = np.random.normal(0,1,size=len(v_i))\n",
    "    u /= np.linalg.norm(u, ord=2)\n",
    "    signVec.append(np.sign(v_i @ u))\n",
    "    \n",
    "np.mean(signVec)"
   ]
  },
  {
   "cell_type": "code",
   "execution_count": null,
   "id": "41fe1536",
   "metadata": {},
   "outputs": [],
   "source": [
    "u"
   ]
  },
  {
   "cell_type": "markdown",
   "id": "fe1ef389",
   "metadata": {},
   "source": [
    "### OG Code"
   ]
  },
  {
   "cell_type": "code",
   "execution_count": 23,
   "id": "f7b2f1c3",
   "metadata": {},
   "outputs": [],
   "source": [
    "L = np.linalg.cholesky(np.eye(d+1))"
   ]
  },
  {
   "cell_type": "code",
   "execution_count": 25,
   "id": "3281a6e3",
   "metadata": {},
   "outputs": [
    {
     "data": {
      "text/plain": [
       "array([ 1., -1.,  1., -1.,  1.,  1.,  1.,  1., -1., -1., -1., -1., -1.,\n",
       "       -1., -1., -1., -1.])"
      ]
     },
     "execution_count": 25,
     "metadata": {},
     "output_type": "execute_result"
    }
   ],
   "source": [
    "vecList = []\n",
    "for k in range(10000):\n",
    "    r = np.random.randn(d+1)   # s~ N(0,1) ... (d+1)-times\n",
    "    r = r/np.linalg.norm(r)\n",
    "    y_soln = np.sign(np.dot(L.T,r))\n",
    "\n",
    "    vecList.append(0.5*(y_soln+1))"
   ]
  },
  {
   "cell_type": "code",
   "execution_count": 29,
   "id": "26d73351",
   "metadata": {},
   "outputs": [
    {
     "data": {
      "text/plain": [
       "array([1., 0., 1., 0., 1., 1., 1., 1., 0., 0., 0., 0., 0., 0., 0., 0., 0.])"
      ]
     },
     "execution_count": 29,
     "metadata": {},
     "output_type": "execute_result"
    }
   ],
   "source": []
  },
  {
   "cell_type": "code",
   "execution_count": null,
   "id": "2b36768e",
   "metadata": {},
   "outputs": [],
   "source": [
    "r = r/np.linalg.norm(r)\n",
    "y_soln = np.sign(np.dot(L.T,r))"
   ]
  }
 ],
 "metadata": {
  "kernelspec": {
   "display_name": "Python 3 (ipykernel)",
   "language": "python",
   "name": "python3"
  },
  "language_info": {
   "codemirror_mode": {
    "name": "ipython",
    "version": 3
   },
   "file_extension": ".py",
   "mimetype": "text/x-python",
   "name": "python",
   "nbconvert_exporter": "python",
   "pygments_lexer": "ipython3",
   "version": "3.9.13"
  }
 },
 "nbformat": 4,
 "nbformat_minor": 5
}
