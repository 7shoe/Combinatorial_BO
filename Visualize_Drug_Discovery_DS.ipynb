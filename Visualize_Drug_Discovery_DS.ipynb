{
 "cells": [
  {
   "cell_type": "code",
   "execution_count": 11,
   "id": "21323f69",
   "metadata": {},
   "outputs": [],
   "source": [
    "from data_utils import *\n",
    "from model_utils import *\n",
    "\n",
    "from tqdm import tqdm\n",
    "import json"
   ]
  },
  {
   "cell_type": "code",
   "execution_count": 2,
   "id": "187e6867",
   "metadata": {},
   "outputs": [],
   "source": [
    "TRAIN_PATH = '/Users/carlo/VS_Projects/DiscreteBO/Combinatorial_BO-1/Datasets/ai-drug-discovery/training-set.csv'"
   ]
  },
  {
   "cell_type": "markdown",
   "id": "70c5ac3f",
   "metadata": {},
   "source": [
    "## Load Data"
   ]
  },
  {
   "cell_type": "code",
   "execution_count": 3,
   "id": "a2913061",
   "metadata": {},
   "outputs": [],
   "source": [
    "# target variable\n",
    "targetVar = 'sol'\n",
    "\n",
    "# load data\n",
    "df_X = getProcessedDF(df_path=TRAIN_PATH, binaryFlag=True, order=5)\n",
    "df_y = getY(df_path=TRAIN_PATH, label=targetVar)\n",
    "\n",
    "# Load entire dataset\n",
    "X = df_X.to_numpy(dtype=np.int32)\n",
    "y = df_y.to_numpy()\n",
    "\n",
    "# derive dimensions\n",
    "d = X.shape[1]\n",
    "p = 1 + d + math.comb(d,2)"
   ]
  },
  {
   "cell_type": "markdown",
   "id": "8b30a450",
   "metadata": {},
   "source": [
    "## Setup Oracle"
   ]
  },
  {
   "cell_type": "code",
   "execution_count": 4,
   "id": "419d7548",
   "metadata": {},
   "outputs": [],
   "source": [
    "# set dimensions\n",
    "d = X.shape[1]\n",
    "p = 1 + d + math.comb(d,2)\n",
    "\n",
    "# load oracle\n",
    "o1 = Oracle(fun=lambda x: f_bin(x, X=X, y=y), N_total=5000, seed=0, sigma_2=0.2)"
   ]
  },
  {
   "cell_type": "markdown",
   "id": "547dea3c",
   "metadata": {},
   "source": [
    "## Initialize BO Models"
   ]
  },
  {
   "cell_type": "code",
   "execution_count": null,
   "id": "55a792d1",
   "metadata": {},
   "outputs": [
    {
     "name": "stderr",
     "output_type": "stream",
     "text": [
      " 63%|██████████████████████████▌               | 76/120 [02:36<01:35,  2.16s/it]"
     ]
    }
   ],
   "source": [
    "%%time\n",
    "\n",
    "N_EXPERIMENTS = 16\n",
    "N_ITERATIONS  = 120\n",
    "\n",
    "# initial D_{0}\n",
    "# - sample random data poitns \n",
    "\n",
    "# logging dicts\n",
    "dictRS, dictBOCS = {}, {}\n",
    "\n",
    "# - let BOCS explore\n",
    "for it in range(N_EXPERIMENTS):\n",
    "    # init oracle\n",
    "    o1 = Oracle(fun=lambda x: f_bin(x, X=X, y=y), N_total=5000, seed=it*190, sigma_2=0.0)\n",
    "    \n",
    "    # BOCS instance\n",
    "    bocs = BOCS(variant='SDP', oracle=o1, N=250, B=50, T=2, lambd=0.5, mode='min', seed=it*185)\n",
    "    rs   = RandomSearch(oracle=o1, d=d, seed=it*1478)\n",
    "\n",
    "    # init\n",
    "    yList_BOCS = [np.inf]\n",
    "    yList_RS   = [np.inf]\n",
    "    \n",
    "    # sample\n",
    "    idx_0 = np.random.choice(range(len(X)), 10, replace=False)\n",
    "\n",
    "    # - subset\n",
    "    X0 = X[idx_0,:]\n",
    "    y0 = y[idx_0]\n",
    "\n",
    "    # fit BOCS on initial data\n",
    "    bocs.fit(X0,y0)\n",
    "    \n",
    "    # loop\n",
    "    for k in tqdm(range(N_ITERATIONS)):\n",
    "        # append BOCS\n",
    "        x_new, y_new = bocs.update()\n",
    "        yList_BOCS.append(min(min(yList_BOCS), y_new))\n",
    "\n",
    "        # append RandomSearch\n",
    "        x_new, y_new = rs.update()\n",
    "        yList_RS.append(min(min(yList_RS), y_new))\n",
    "\n",
    "    # append dictionaries\n",
    "    dictRS[it]   = yList_RS[1:]\n",
    "    dictBOCS[it] = yList_BOCS[1:]\n",
    "    \n",
    "# store dictionaries\n",
    "with open(f'./data/BOCS_EXP/dictRS_{N_EXPERIMENTS}_00.json', 'w+') as f:\n",
    "    json.dump(dictRS, f)\n",
    "with open(f'./data/BOCS_EXP/dictBOCS_{N_EXPERIMENTS}_00.json', 'w+') as f:\n",
    "    json.dump(dictBOCS, f)"
   ]
  }
 ],
 "metadata": {
  "kernelspec": {
   "display_name": "Python 3 (ipykernel)",
   "language": "python",
   "name": "python3"
  },
  "language_info": {
   "codemirror_mode": {
    "name": "ipython",
    "version": 3
   },
   "file_extension": ".py",
   "mimetype": "text/x-python",
   "name": "python",
   "nbconvert_exporter": "python",
   "pygments_lexer": "ipython3",
   "version": "3.9.13"
  }
 },
 "nbformat": 4,
 "nbformat_minor": 5
}
