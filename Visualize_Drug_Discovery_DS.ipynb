{
 "cells": [
  {
   "cell_type": "code",
   "execution_count": 5,
   "id": "2935e6a9",
   "metadata": {},
   "outputs": [],
   "source": [
    "from data_utils import *\n",
    "from model_utils import *\n",
    "\n",
    "from tqdm import tqdm\n",
    "import json"
   ]
  },
  {
   "cell_type": "code",
   "execution_count": 6,
   "id": "d896839c",
   "metadata": {},
   "outputs": [],
   "source": [
    "TRAIN_PATH = '/Users/carlo/VS_Projects/DiscreteBO/Combinatorial_BO-1/Datasets/ai-drug-discovery/training-set.csv'"
   ]
  },
  {
   "cell_type": "markdown",
   "id": "1408d265",
   "metadata": {},
   "source": [
    "## Load Data"
   ]
  },
  {
   "cell_type": "code",
   "execution_count": 50,
   "id": "d28e30a1",
   "metadata": {},
   "outputs": [],
   "source": [
    "# target variable\n",
    "targetVar = 'sol'\n",
    "\n",
    "# load data\n",
    "df_X = getProcessedDF(df_path=TRAIN_PATH, binaryFlag=True, order=5)\n",
    "df_X = df_X.drop_duplicates()\n",
    "df_y = getY(df_path=TRAIN_PATH, label=targetVar)\n",
    "\n",
    "# Load entire dataset\n",
    "X = df_X.to_numpy(dtype=np.int32)\n",
    "y = df_y.to_numpy()\n",
    "alph1 = np.array([0.0, 2.3, -2.3, 0.0, -1.9, 0.0, -2.5, -2.3, -2.1, 0.0, 2.0, 0.0, -3.1, 2.0, 2.8, 0.0, -1.3])\n",
    "y = X @ alph1.T\n",
    "y = y + np.random.normal(0, 0.1, size=len(y))\n",
    "\n",
    "f_GT = lambda x : x.T @ alph1\n",
    "\n",
    "# derive dimensions\n",
    "d = X.shape[1]\n",
    "p = 1 + d + math.comb(d,2)"
   ]
  },
  {
   "cell_type": "markdown",
   "id": "9f525371",
   "metadata": {},
   "source": [
    "## Setup Oracle"
   ]
  },
  {
   "cell_type": "code",
   "execution_count": 51,
   "id": "6ed4e767",
   "metadata": {},
   "outputs": [],
   "source": [
    "# set dimensions\n",
    "d = X.shape[1]\n",
    "p = 1 + d + math.comb(d,2)\n",
    "\n",
    "# load oracle\n",
    "o1 = Oracle(fun=f_GT, N_total=5000, seed=0, sigma_2=0.2)"
   ]
  },
  {
   "cell_type": "markdown",
   "id": "f0840f49",
   "metadata": {},
   "source": [
    "## Initialize BO Models"
   ]
  },
  {
   "cell_type": "code",
   "execution_count": 52,
   "id": "137ffb00",
   "metadata": {},
   "outputs": [
    {
     "name": "stderr",
     "output_type": "stream",
     "text": [
      "100%|█████████████████████████████████████████| 100/100 [03:17<00:00,  1.98s/it]\n",
      "100%|█████████████████████████████████████████| 100/100 [03:32<00:00,  2.13s/it]\n",
      "100%|█████████████████████████████████████████| 100/100 [02:52<00:00,  1.73s/it]\n",
      "100%|█████████████████████████████████████████| 100/100 [03:23<00:00,  2.04s/it]\n",
      "100%|█████████████████████████████████████████| 100/100 [03:18<00:00,  1.98s/it]\n",
      "100%|█████████████████████████████████████████| 100/100 [03:22<00:00,  2.02s/it]\n",
      "100%|█████████████████████████████████████████| 100/100 [03:19<00:00,  2.00s/it]\n",
      "100%|█████████████████████████████████████████| 100/100 [03:18<00:00,  1.98s/it]\n",
      "100%|█████████████████████████████████████████| 100/100 [03:38<00:00,  2.18s/it]\n",
      "100%|█████████████████████████████████████████| 100/100 [03:19<00:00,  2.00s/it]\n",
      "100%|█████████████████████████████████████████| 100/100 [03:10<00:00,  1.91s/it]\n",
      "100%|█████████████████████████████████████████| 100/100 [03:15<00:00,  1.96s/it]\n",
      "100%|█████████████████████████████████████████| 100/100 [03:10<00:00,  1.91s/it]\n",
      "100%|█████████████████████████████████████████| 100/100 [03:04<00:00,  1.84s/it]\n",
      "100%|█████████████████████████████████████████| 100/100 [02:44<00:00,  1.65s/it]"
     ]
    },
    {
     "name": "stdout",
     "output_type": "stream",
     "text": [
      "CPU times: user 2h 54min 40s, sys: 10min 2s, total: 3h 4min 43s\n",
      "Wall time: 49min 16s\n"
     ]
    },
    {
     "name": "stderr",
     "output_type": "stream",
     "text": [
      "\n"
     ]
    }
   ],
   "source": [
    "%%time\n",
    "\n",
    "N_EXPERIMENTS = 15\n",
    "N_ITERATIONS  = 100\n",
    "\n",
    "# initial D_{0}\n",
    "# - sample random data poitns \n",
    "\n",
    "# logging dicts\n",
    "dictRS, dictBOCS = {}, {}\n",
    "\n",
    "# - let BOCS explore\n",
    "for it in range(N_EXPERIMENTS):\n",
    "    # init oracle\n",
    "    o1 = Oracle(fun=lambda x: f_bin(x, X=X, y=y), N_total=5000, seed=it*190, sigma_2=0.0)\n",
    "    \n",
    "    # BOCS instance\n",
    "    bocs = BOCS(variant='SDP', oracle=o1, N=250, B=50, T=2, lambd=0.1, mode='min', seed=it*185)\n",
    "    rs   = RandomSearch(oracle=o1, d=d, seed=it*1478)\n",
    "\n",
    "    # init\n",
    "    yList_BOCS = [np.inf]\n",
    "    yList_RS   = [np.inf]\n",
    "    \n",
    "    # sample\n",
    "    idx_0 = np.random.choice(range(len(X)), 30, replace=False)\n",
    "\n",
    "    # - subset\n",
    "    X0 = X[idx_0,:]\n",
    "    y0 = y[idx_0]\n",
    "\n",
    "    # fit BOCS on initial data\n",
    "    bocs.fit(X0,y0)\n",
    "    \n",
    "    # loop\n",
    "    for k in tqdm(range(N_ITERATIONS)):\n",
    "        # append BOCS\n",
    "        x_new, y_new = bocs.update()\n",
    "        yList_BOCS.append(min(min(yList_BOCS), y_new))\n",
    "\n",
    "        # append RandomSearch\n",
    "        x_new, y_new = rs.update()\n",
    "        yList_RS.append(min(min(yList_RS), y_new))\n",
    "\n",
    "    # append dictionaries\n",
    "    dictRS[it]   = yList_RS[1:]\n",
    "    dictBOCS[it] = yList_BOCS[1:]\n",
    "    \n",
    "# store dictionaries\n",
    "with open(f'./data/BOCS_EXP/dictRS_{N_EXPERIMENTS}_lamb01_GT_03.json', 'w+') as f:\n",
    "    json.dump(dictRS, f)\n",
    "with open(f'./data/BOCS_EXP/dictBOCS_{N_EXPERIMENTS}_lamb01_GT_03.json', 'w+') as f:\n",
    "    json.dump(dictBOCS, f)"
   ]
  },
  {
   "cell_type": "markdown",
   "id": "976c4b40",
   "metadata": {},
   "source": [
    "## Visualize"
   ]
  },
  {
   "cell_type": "code",
   "execution_count": null,
   "id": "a3880197",
   "metadata": {},
   "outputs": [],
   "source": [
    "# dataframes\n",
    "df_RS   = pd.DataFrame(dictRS).T\n",
    "df_BOCS = pd.DataFrame(dictBOCS).T\n",
    "\n",
    "dictRND  = dictRS\n",
    "dictBOCS = dictBOCS"
   ]
  },
  {
   "cell_type": "code",
   "execution_count": null,
   "id": "0512a345",
   "metadata": {},
   "outputs": [],
   "source": [
    "# Plot\n",
    "fig,ax = plt.subplots()\n",
    "x_ = np.array(range(10, 130))\n",
    "  \n",
    "# mean\n",
    "y_mean  = np.array(pd.DataFrame(dictRND).mean(axis=1))\n",
    "ax.plot(x_, y_mean, '--', color='tab:orange')\n",
    "\n",
    "#plt.plot(range(20, 20+len(mseDict[0])), [mse_**2 for mse_ in mse])\n",
    "plt.xticks()\n",
    "\n",
    "# compute upper lower\n",
    "y_lower = np.array(pd.DataFrame(dictRND).quantile(0.1, axis=1))\n",
    "y_upper = np.array(pd.DataFrame(dictRND).quantile(0.9, axis=1))\n",
    "        \n",
    "# plot our confidence band\n",
    "ax.fill_between(x_, y_lower, y_upper, alpha=0.2, color='tab:orange')\n",
    "\n",
    "# compute upper lower\n",
    "y_lower = np.array(pd.DataFrame(dictRND).quantile(0.25, axis=1))\n",
    "y_upper = np.array(pd.DataFrame(dictRND).quantile(0.75, axis=1))\n",
    "ax.fill_between(x_, y_lower, y_upper, alpha=0.2, color='tab:orange')\n",
    "\n",
    "# compute upper lower\n",
    "y_lower = np.array(pd.DataFrame(dictBOCS).quantile(0.1, axis=1))\n",
    "y_upper = np.array(pd.DataFrame(dictBOCS).quantile(0.9, axis=1))\n",
    "        \n",
    "# plot our confidence band\n",
    "ax.fill_between(x_, y_lower, y_upper, alpha=0.2, color='tab:blue')\n",
    "\n",
    "# compute upper lower\n",
    "y_mean  = np.array(pd.DataFrame(dictBOCS).mean(axis=1))\n",
    "ax.plot(x_, y_mean, '--', color='tab:blue')\n",
    "y_lower = np.array(pd.DataFrame(dictBOCS).quantile(0.25, axis=1))\n",
    "y_upper = np.array(pd.DataFrame(dictBOCS).quantile(0.75, axis=1))\n",
    "ax.fill_between(x_, y_lower, y_upper, alpha=0.2, color='tab:blue')\n",
    "\n",
    "# ticks\n",
    "plt.suptitle('Effectiveness of BOCS', fontsize=16, y=0.99)\n",
    "plt.title(r'$p=56, \\; \\; \\Vert \\alpha \\Vert_{0}=p, \\; \\; n_{init}=30, \\;\\; \\sigma^{2}=3.0, \\; \\; N=100, \\; \\; B = 50, \\; T=4$', fontsize=10)\n",
    "plt.xlabel(r'$n$', fontsize=14)\n",
    "plt.ylabel(r'$f(x_{t})$', fontsize=14)\n",
    "plt.legend({'Rnd.Search' : 'Random', 'BOCS-SDP' : 'BOCS-SDP'})\n",
    "#plt.axhline(y=0.06, linestyle='--', c='grey', linewidth=0.75, xmin=0.05, xmax=0.95)\n",
    "#plt.text(s=r'$\\sigma^{2} tr((X^{\\top} X )^{-1})$', y=0.06, x=-26, fontsize=8, c='#525252')\n",
    "\n",
    "plt.show()"
   ]
  },
  {
   "cell_type": "markdown",
   "id": "faa39b23",
   "metadata": {},
   "source": [
    "## Visualize `rdkit`"
   ]
  },
  {
   "cell_type": "code",
   "execution_count": 53,
   "id": "91321c65",
   "metadata": {},
   "outputs": [],
   "source": [
    "from rdkit import Chem"
   ]
  },
  {
   "cell_type": "code",
   "execution_count": 54,
   "id": "5cf11957",
   "metadata": {},
   "outputs": [],
   "source": [
    "df = pd.read_csv(TRAIN_PATH)"
   ]
  },
  {
   "cell_type": "code",
   "execution_count": 57,
   "id": "d60214dc",
   "metadata": {},
   "outputs": [
    {
     "data": {
      "text/plain": [
       "'CC(=O)SCC(Cc1ccccc1)C(=O)NCC(=O)OCc1ccccc1'"
      ]
     },
     "execution_count": 57,
     "metadata": {},
     "output_type": "execute_result"
    }
   ],
   "source": [
    "df['SMILES_stand'][0]"
   ]
  },
  {
   "cell_type": "code",
   "execution_count": 59,
   "id": "edb9eedd",
   "metadata": {},
   "outputs": [
    {
     "data": {
      "image/png": "[encoded data removed]",
      "text/plain": [
       "<rdkit.Chem.rdchem.Mol at 0x7fc589384970>"
      ]
     },
     "execution_count": 59,
     "metadata": {},
     "output_type": "execute_result"
    }
   ],
   "source": [
    "mol = Chem.MolFromSmiles(df['SMILES_stand'][0])\n",
    "# Default\n",
    "mol"
   ]
  },
  {
   "cell_type": "code",
   "execution_count": 65,
   "id": "13a0b638",
   "metadata": {},
   "outputs": [
    {
     "data": {
      "image/png": "[encoded data removed]",
      "text/plain": [
       "<rdkit.Chem.rdchem.Mol at 0x7fc589384c10>"
      ]
     },
     "execution_count": 65,
     "metadata": {},
     "output_type": "execute_result"
    }
   ],
   "source": [
    "mol = Chem.MolFromSmiles(df['SMILES_stand'][0])\n",
    "# Default\n",
    "mol"
   ]
  },
  {
   "cell_type": "code",
   "execution_count": 60,
   "id": "c8611e79",
   "metadata": {},
   "outputs": [],
   "source": [
    "# getFormalCharge; getNumberOfAtoms; getAromaticRings; getHydroxylGroup\n",
    "from rdkit.Chem.Draw import IPythonConsole"
   ]
  },
  {
   "cell_type": "code",
   "execution_count": 87,
   "id": "5cbc3254",
   "metadata": {},
   "outputs": [
    {
     "name": "stdout",
     "output_type": "stream",
     "text": [
      "((7, 8, 9, 10, 11, 12), (21, 22, 23, 24, 25, 26))\n"
     ]
    }
   ],
   "source": [
    "m = Chem.MolFromSmiles(df['SMILES_stand'][0])\n",
    "substructure = Chem.MolFromSmarts('c1ccccc1')\n",
    "print(m.GetSubstructMatches(substructure))"
   ]
  },
  {
   "cell_type": "code",
   "execution_count": 88,
   "id": "e3800103",
   "metadata": {},
   "outputs": [
    {
     "data": {
      "image/png": "[encoded data removed]",
      "text/plain": [
       "<rdkit.Chem.rdchem.Mol at 0x7fc5893d7ac0>"
      ]
     },
     "execution_count": 88,
     "metadata": {},
     "output_type": "execute_result"
    }
   ],
   "source": [
    "m"
   ]
  },
  {
   "cell_type": "code",
   "execution_count": 72,
   "id": "e2109c21",
   "metadata": {},
   "outputs": [
    {
     "data": {
      "text/plain": [
       "'CC(=O)SCC(Cc1ccccc1)C(=O)NCC(=O)OCc1ccccc1'"
      ]
     },
     "execution_count": 72,
     "metadata": {},
     "output_type": "execute_result"
    }
   ],
   "source": [
    "df['SMILES_stand'][0]"
   ]
  },
  {
   "cell_type": "code",
   "execution_count": 66,
   "id": "12588d8d",
   "metadata": {},
   "outputs": [
    {
     "name": "stdout",
     "output_type": "stream",
     "text": [
      "((8, 9, 10, 11, 12, 7), (22, 23, 24, 25, 26, 21))\n"
     ]
    }
   ],
   "source": [
    "ri = mol.GetRingInfo()\n",
    "# You can interrogate the RingInfo object to tell you the atoms that make up each ring:\n",
    "print(ri.AtomRings())"
   ]
  },
  {
   "cell_type": "code",
   "execution_count": 63,
   "id": "c5dcfc22",
   "metadata": {},
   "outputs": [
    {
     "data": {
      "text/plain": [
       "[0, 0, 0, 0]"
      ]
     },
     "execution_count": 63,
     "metadata": {},
     "output_type": "execute_result"
    }
   ],
   "source": [
    "getAromaticRings(df['SMILES_stand'][0])"
   ]
  },
  {
   "cell_type": "code",
   "execution_count": 64,
   "id": "03cfc7cc",
   "metadata": {},
   "outputs": [
    {
     "data": {
      "text/plain": [
       "[0]"
      ]
     },
     "execution_count": 64,
     "metadata": {},
     "output_type": "execute_result"
    }
   ],
   "source": [
    "getHydroxylGroup(df['SMILES_stand'][0])"
   ]
  },
  {
   "cell_type": "code",
   "execution_count": null,
   "id": "4bac6c0d",
   "metadata": {},
   "outputs": [],
   "source": []
  }
 ],
 "metadata": {
  "kernelspec": {
   "display_name": "Python 3 (ipykernel)",
   "language": "python",
   "name": "python3"
  },
  "language_info": {
   "codemirror_mode": {
    "name": "ipython",
    "version": 3
   },
   "file_extension": ".py",
   "mimetype": "text/x-python",
   "name": "python",
   "nbconvert_exporter": "python",
   "pygments_lexer": "ipython3",
   "version": "3.9.13"
  }
 },
 "nbformat": 4,
 "nbformat_minor": 5
}
